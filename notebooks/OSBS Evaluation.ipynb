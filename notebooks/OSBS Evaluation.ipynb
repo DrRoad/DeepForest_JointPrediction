{
 "cells": [
  {
   "cell_type": "markdown",
   "metadata": {},
   "source": [
    "# Aim"
   ]
  },
  {
   "cell_type": "markdown",
   "metadata": {},
   "source": [
    "The goal of this notebook is to evaluate the joint temporal prediction model for the OSBS image-annotated crowns"
   ]
  },
  {
   "cell_type": "code",
   "execution_count": 29,
   "metadata": {},
   "outputs": [],
   "source": [
    "from DeepForestJointPrediction import generate_benchmark\n",
    "from DeepForestJointPrediction import evaluate\n",
    "from DeepForestJointPrediction import average_precision\n",
    "from deepforest import deepforest"
   ]
  },
  {
   "cell_type": "markdown",
   "metadata": {},
   "source": [
    "# Single Year prediction score"
   ]
  },
  {
   "cell_type": "code",
   "execution_count": 9,
   "metadata": {},
   "outputs": [
    {
     "name": "stdout",
     "output_type": "stream",
     "text": [
      "Reading config file: /Users/ben/miniconda3/envs/DeepForest_JointPrediction/lib/python3.7/site-packages/deepforest/data/deepforest_config.yml\n",
      "A blank deepforest object created. To perform prediction, either train or load an existing model.\n",
      "Model from DeepForest release https://github.com/weecology/DeepForest/releases/tag/v0.2.1 was already downloaded. Loading model from file.\n",
      "Loading pre-built model: https://github.com/weecology/DeepForest/releases/tag/v0.2.1\n",
      "WARNING:tensorflow:From /Users/ben/miniconda3/envs/DeepForest_JointPrediction/lib/python3.7/site-packages/keras/backend/tensorflow_backend.py:4070: The name tf.nn.max_pool is deprecated. Please use tf.nn.max_pool2d instead.\n",
      "\n",
      "tracking <tf.Variable 'Variable:0' shape=(9, 4) dtype=float32> anchors\n",
      "tracking <tf.Variable 'Variable_1:0' shape=(9, 4) dtype=float32> anchors\n",
      "tracking <tf.Variable 'Variable_2:0' shape=(9, 4) dtype=float32> anchors\n",
      "tracking <tf.Variable 'Variable_3:0' shape=(9, 4) dtype=float32> anchors\n",
      "tracking <tf.Variable 'Variable_4:0' shape=(9, 4) dtype=float32> anchors\n",
      "WARNING:tensorflow:From /Users/ben/miniconda3/envs/DeepForest_JointPrediction/lib/python3.7/site-packages/keras_retinanet/backend/tensorflow_backend.py:104: add_dispatch_support.<locals>.wrapper (from tensorflow.python.ops.array_ops) is deprecated and will be removed in a future version.\n",
      "Instructions for updating:\n",
      "Use tf.where in 2.0, which has the same broadcast rule as np.where\n"
     ]
    }
   ],
   "source": [
    "model = deepforest.deepforest()\n",
    "model.use_release()"
   ]
  },
  {
   "cell_type": "code",
   "execution_count": 27,
   "metadata": {},
   "outputs": [],
   "source": [
    "csv_path = generate_benchmark.run(rgb_dir=\"../ext_data/raw/RGB/\", savedir=\"../ext_data/raw/RGB/\")"
   ]
  },
  {
   "cell_type": "code",
   "execution_count": 28,
   "metadata": {},
   "outputs": [
    {
     "name": "stderr",
     "output_type": "stream",
     "text": [
      "\r",
      "Running network: N/A% (0 of 28) |        | Elapsed Time: 0:00:00 ETA:  --:--:--"
     ]
    },
    {
     "name": "stdout",
     "output_type": "stream",
     "text": [
      "There are 1 unique labels: ['Tree'] \n",
      "Disabling snapshot saving\n"
     ]
    },
    {
     "name": "stderr",
     "output_type": "stream",
     "text": [
      "Running network: 100% (28 of 28) |#######| Elapsed Time: 0:01:04 Time:  0:01:04\n",
      "Parsing annotations: 100% (28 of 28) |###| Elapsed Time: 0:00:00 Time:  0:00:00\n"
     ]
    },
    {
     "name": "stdout",
     "output_type": "stream",
     "text": [
      "1049 instances of class Tree with average precision: 0.4287\n",
      "mAP using the weighted average of precisions among classes: 0.4287\n",
      "mAP: 0.4287\n"
     ]
    },
    {
     "data": {
      "text/plain": [
       "0.42871290670540124"
      ]
     },
     "execution_count": 28,
     "metadata": {},
     "output_type": "execute_result"
    }
   ],
   "source": [
    "model.evaluate_generator(csv_path)"
   ]
  },
  {
   "cell_type": "markdown",
   "metadata": {},
   "source": [
    "## Across year"
   ]
  },
  {
   "cell_type": "code",
   "execution_count": 33,
   "metadata": {},
   "outputs": [
    {
     "name": "stdout",
     "output_type": "stream",
     "text": [
      "Reading config file: /Users/ben/miniconda3/envs/DeepForest_JointPrediction/lib/python3.7/site-packages/deepforest/data/deepforest_config.yml\n",
      "A blank deepforest object created. To perform prediction, either train or load an existing model.\n",
      "Model from DeepForest release https://github.com/weecology/DeepForest/releases/tag/v0.2.1 was already downloaded. Loading model from file.\n",
      "Loading pre-built model: https://github.com/weecology/DeepForest/releases/tag/v0.2.1\n",
      "tracking <tf.Variable 'Variable_10:0' shape=(9, 4) dtype=float32> anchors\n",
      "tracking <tf.Variable 'Variable_11:0' shape=(9, 4) dtype=float32> anchors\n",
      "tracking <tf.Variable 'Variable_12:0' shape=(9, 4) dtype=float32> anchors\n",
      "tracking <tf.Variable 'Variable_13:0' shape=(9, 4) dtype=float32> anchors\n",
      "tracking <tf.Variable 'Variable_14:0' shape=(9, 4) dtype=float32> anchors\n",
      "There are 1 unique labels: ['Tree'] \n",
      "Disabling snapshot saving\n",
      "52 predictions kept after non-max suppression\n",
      "74 predictions kept after non-max suppression\n",
      "46 predictions kept after non-max suppression\n",
      "39 predictions kept after non-max suppression\n",
      "61 predictions kept after non-max suppression\n",
      "78 predictions kept after non-max suppression\n",
      "34 predictions kept after non-max suppression\n",
      "54 predictions kept after non-max suppression\n",
      "16 predictions kept after non-max suppression\n",
      "8 predictions kept after non-max suppression\n",
      "12 predictions kept after non-max suppression\n",
      "13 predictions kept after non-max suppression\n",
      "29 predictions kept after non-max suppression\n",
      "44 predictions kept after non-max suppression\n",
      "28 predictions kept after non-max suppression\n",
      "72 predictions kept after non-max suppression\n",
      "33 predictions kept after non-max suppression\n",
      "15 predictions kept after non-max suppression\n",
      "51 predictions kept after non-max suppression\n",
      "33 predictions kept after non-max suppression\n",
      "18 predictions kept after non-max suppression\n",
      "30 predictions kept after non-max suppression\n",
      "22 predictions kept after non-max suppression\n",
      "36 predictions kept after non-max suppression\n",
      "42 predictions kept after non-max suppression\n",
      "34 predictions kept after non-max suppression\n",
      "9 predictions kept after non-max suppression\n",
      "12 predictions kept after non-max suppression\n",
      "OSBS_003_2018 raises ../ext_data/raw/CHM/OSBS_003_2018_CHM.tif: No such file or directory\n",
      "OSBS_003_2019 raises ../ext_data/raw/CHM/OSBS_003_2019_CHM.tif: No such file or directory\n",
      "OSBS_008_2018 raises ../ext_data/raw/CHM/OSBS_008_2018_CHM.tif: No such file or directory\n",
      "OSBS_008_2019 raises ../ext_data/raw/CHM/OSBS_008_2019_CHM.tif: No such file or directory\n"
     ]
    },
    {
     "name": "stderr",
     "output_type": "stream",
     "text": [
      "/Users/ben/miniconda3/envs/DeepForest_JointPrediction/lib/python3.7/site-packages/DeepForestJointPrediction/utilities.py:27: SettingWithCopyWarning: \n",
      "A value is trying to be set on a copy of a slice from a DataFrame.\n",
      "Try using .loc[row_indexer,col_indexer] = value instead\n",
      "\n",
      "See the caveats in the documentation: https://pandas.pydata.org/pandas-docs/stable/user_guide/indexing.html#returning-a-view-versus-a-copy\n",
      "  boxes[\"left\"] = (boxes[\"xmin\"] * pixelSizeX) + bounds.left\n",
      "/Users/ben/miniconda3/envs/DeepForest_JointPrediction/lib/python3.7/site-packages/DeepForestJointPrediction/utilities.py:28: SettingWithCopyWarning: \n",
      "A value is trying to be set on a copy of a slice from a DataFrame.\n",
      "Try using .loc[row_indexer,col_indexer] = value instead\n",
      "\n",
      "See the caveats in the documentation: https://pandas.pydata.org/pandas-docs/stable/user_guide/indexing.html#returning-a-view-versus-a-copy\n",
      "  boxes[\"right\"] = (boxes[\"xmax\"] * pixelSizeX) + bounds.left\n",
      "/Users/ben/miniconda3/envs/DeepForest_JointPrediction/lib/python3.7/site-packages/DeepForestJointPrediction/utilities.py:29: SettingWithCopyWarning: \n",
      "A value is trying to be set on a copy of a slice from a DataFrame.\n",
      "Try using .loc[row_indexer,col_indexer] = value instead\n",
      "\n",
      "See the caveats in the documentation: https://pandas.pydata.org/pandas-docs/stable/user_guide/indexing.html#returning-a-view-versus-a-copy\n",
      "  boxes[\"top\"] = bounds.top - (boxes[\"ymin\"] * pixelSizeY)\n",
      "/Users/ben/miniconda3/envs/DeepForest_JointPrediction/lib/python3.7/site-packages/DeepForestJointPrediction/utilities.py:30: SettingWithCopyWarning: \n",
      "A value is trying to be set on a copy of a slice from a DataFrame.\n",
      "Try using .loc[row_indexer,col_indexer] = value instead\n",
      "\n",
      "See the caveats in the documentation: https://pandas.pydata.org/pandas-docs/stable/user_guide/indexing.html#returning-a-view-versus-a-copy\n",
      "  boxes[\"bottom\"] = bounds.top - (boxes[\"ymax\"] * pixelSizeY)\n",
      "/Users/ben/miniconda3/envs/DeepForest_JointPrediction/lib/python3.7/site-packages/DeepForestJointPrediction/utilities.py:34: SettingWithCopyWarning: \n",
      "A value is trying to be set on a copy of a slice from a DataFrame.\n",
      "Try using .loc[row_indexer,col_indexer] = value instead\n",
      "\n",
      "See the caveats in the documentation: https://pandas.pydata.org/pandas-docs/stable/user_guide/indexing.html#returning-a-view-versus-a-copy\n",
      "  lambda x: shapely.geometry.box(x.left, x.top, x.right, x.bottom), axis=1)\n",
      "/Users/ben/miniconda3/envs/DeepForest_JointPrediction/lib/python3.7/site-packages/pyproj/crs/crs.py:53: FutureWarning: '+init=<authority>:<code>' syntax is deprecated. '<authority>:<code>' is the preferred initialization method. When making the change, be mindful of axis order changes: https://pyproj4.github.io/pyproj/stable/gotchas.html#axis-order-changes-in-proj-6\n",
      "  return _prepare_from_string(\" \".join(pjargs))\n"
     ]
    },
    {
     "name": "stdout",
     "output_type": "stream",
     "text": [
      "OSBS_011_2018 raises ../ext_data/raw/CHM/OSBS_011_2018_CHM.tif: No such file or directory\n",
      "OSBS_011_2019 raises ../ext_data/raw/CHM/OSBS_011_2019_CHM.tif: No such file or directory\n",
      "OSBS_015_2018 raises ../ext_data/raw/CHM/OSBS_015_2018_CHM.tif: No such file or directory\n",
      "OSBS_015_2019 raises ../ext_data/raw/CHM/OSBS_015_2019_CHM.tif: No such file or directory\n",
      "OSBS_022_2018 raises ../ext_data/raw/CHM/OSBS_022_2018_CHM.tif: No such file or directory\n",
      "OSBS_022_2019 raises ../ext_data/raw/CHM/OSBS_022_2019_CHM.tif: No such file or directory\n",
      "OSBS_023_2018 raises ../ext_data/raw/CHM/OSBS_023_2018_CHM.tif: No such file or directory\n",
      "OSBS_023_2019 raises ../ext_data/raw/CHM/OSBS_023_2019_CHM.tif: No such file or directory\n",
      "OSBS_028_2018 raises ../ext_data/raw/CHM/OSBS_028_2018_CHM.tif: No such file or directory\n",
      "OSBS_028_2019 raises ../ext_data/raw/CHM/OSBS_028_2019_CHM.tif: No such file or directory\n",
      "OSBS_029_2018 raises ../ext_data/raw/CHM/OSBS_029_2018_CHM.tif: No such file or directory\n",
      "OSBS_029_2019 raises ../ext_data/raw/CHM/OSBS_029_2019_CHM.tif: No such file or directory\n",
      "OSBS_032_2018 raises ../ext_data/raw/CHM/OSBS_032_2018_CHM.tif: No such file or directory\n",
      "OSBS_032_2019 raises ../ext_data/raw/CHM/OSBS_032_2019_CHM.tif: No such file or directory\n",
      "OSBS_033_2018 raises ../ext_data/raw/CHM/OSBS_033_2018_CHM.tif: No such file or directory\n",
      "OSBS_033_2019 raises ../ext_data/raw/CHM/OSBS_033_2019_CHM.tif: No such file or directory\n",
      "OSBS_037_2018 raises ../ext_data/raw/CHM/OSBS_037_2018_CHM.tif: No such file or directory\n",
      "OSBS_037_2019 raises ../ext_data/raw/CHM/OSBS_037_2019_CHM.tif: No such file or directory\n",
      "OSBS_039_2018 raises ../ext_data/raw/CHM/OSBS_039_2018_CHM.tif: No such file or directory\n",
      "OSBS_039_2019 raises ../ext_data/raw/CHM/OSBS_039_2019_CHM.tif: No such file or directory\n",
      "OSBS_040_2018 raises ../ext_data/raw/CHM/OSBS_040_2018_CHM.tif: No such file or directory\n",
      "OSBS_040_2019 raises ../ext_data/raw/CHM/OSBS_040_2019_CHM.tif: No such file or directory\n",
      "OSBS_051_2018 raises ../ext_data/raw/CHM/OSBS_051_2018_CHM.tif: No such file or directory\n",
      "OSBS_051_2019 raises ../ext_data/raw/CHM/OSBS_051_2019_CHM.tif: No such file or directory\n"
     ]
    },
    {
     "ename": "ValueError",
     "evalue": "No objects to concatenate",
     "output_type": "error",
     "traceback": [
      "\u001b[0;31m---------------------------------------------------------------------------\u001b[0m",
      "\u001b[0;31mValueError\u001b[0m                                Traceback (most recent call last)",
      "\u001b[0;32m<ipython-input-33-21bde6431338>\u001b[0m in \u001b[0;36m<module>\u001b[0;34m\u001b[0m\n\u001b[0;32m----> 1\u001b[0;31m \u001b[0mboxes\u001b[0m \u001b[0;34m=\u001b[0m \u001b[0mevaluate\u001b[0m\u001b[0;34m.\u001b[0m\u001b[0mrun\u001b[0m\u001b[0;34m(\u001b[0m\u001b[0mimage_csv\u001b[0m\u001b[0;34m=\u001b[0m\u001b[0mcsv_path\u001b[0m\u001b[0;34m,\u001b[0m\u001b[0mchm_dir\u001b[0m\u001b[0;34m=\u001b[0m\u001b[0;34m\"../ext_data/raw/CHM/\"\u001b[0m\u001b[0;34m)\u001b[0m\u001b[0;34m\u001b[0m\u001b[0;34m\u001b[0m\u001b[0m\n\u001b[0m",
      "\u001b[0;32m~/miniconda3/envs/DeepForest_JointPrediction/lib/python3.7/site-packages/DeepForestJointPrediction/evaluate.py\u001b[0m in \u001b[0;36mrun\u001b[0;34m(image_csv, chm_dir, saved_model, joint)\u001b[0m\n\u001b[1;32m     31\u001b[0m \u001b[0;34m\u001b[0m\u001b[0m\n\u001b[1;32m     32\u001b[0m     \u001b[0mrgb_dir\u001b[0m \u001b[0;34m=\u001b[0m \u001b[0mos\u001b[0m\u001b[0;34m.\u001b[0m\u001b[0mpath\u001b[0m\u001b[0;34m.\u001b[0m\u001b[0mdirname\u001b[0m\u001b[0;34m(\u001b[0m\u001b[0mimage_csv\u001b[0m\u001b[0;34m)\u001b[0m\u001b[0;34m\u001b[0m\u001b[0;34m\u001b[0m\u001b[0m\n\u001b[0;32m---> 33\u001b[0;31m     \u001b[0mfiltered_boxes\u001b[0m \u001b[0;34m=\u001b[0m \u001b[0mfilter_by_height\u001b[0m\u001b[0;34m(\u001b[0m\u001b[0mboxes\u001b[0m\u001b[0;34m,\u001b[0m \u001b[0mrgb_dir\u001b[0m\u001b[0;34m,\u001b[0m \u001b[0mchm_dir\u001b[0m\u001b[0;34m)\u001b[0m\u001b[0;34m\u001b[0m\u001b[0;34m\u001b[0m\u001b[0m\n\u001b[0m\u001b[1;32m     34\u001b[0m \u001b[0;34m\u001b[0m\u001b[0m\n\u001b[1;32m     35\u001b[0m     \u001b[0;32mreturn\u001b[0m \u001b[0mfiltered_boxes\u001b[0m\u001b[0;34m\u001b[0m\u001b[0;34m\u001b[0m\u001b[0m\n",
      "\u001b[0;32m~/miniconda3/envs/DeepForest_JointPrediction/lib/python3.7/site-packages/DeepForestJointPrediction/joint.py\u001b[0m in \u001b[0;36mfilter_by_height\u001b[0;34m(boxes, rgb_dir, CHM_dir, min_height)\u001b[0m\n\u001b[1;32m     86\u001b[0m         \u001b[0mthreshold_boxes\u001b[0m\u001b[0;34m.\u001b[0m\u001b[0mappend\u001b[0m\u001b[0;34m(\u001b[0m\u001b[0mx\u001b[0m\u001b[0;34m)\u001b[0m\u001b[0;34m\u001b[0m\u001b[0;34m\u001b[0m\u001b[0m\n\u001b[1;32m     87\u001b[0m \u001b[0;34m\u001b[0m\u001b[0m\n\u001b[0;32m---> 88\u001b[0;31m     \u001b[0mthreshold_boxes\u001b[0m \u001b[0;34m=\u001b[0m \u001b[0mpd\u001b[0m\u001b[0;34m.\u001b[0m\u001b[0mconcat\u001b[0m\u001b[0;34m(\u001b[0m\u001b[0mthreshold_boxes\u001b[0m\u001b[0;34m)\u001b[0m\u001b[0;34m\u001b[0m\u001b[0;34m\u001b[0m\u001b[0m\n\u001b[0m\u001b[1;32m     89\u001b[0m     \u001b[0mthreshold_boxes\u001b[0m \u001b[0;34m=\u001b[0m \u001b[0mthreshold_boxes\u001b[0m\u001b[0;34m[\u001b[0m\u001b[0mthreshold_boxes\u001b[0m\u001b[0;34m.\u001b[0m\u001b[0mheight\u001b[0m \u001b[0;34m>\u001b[0m \u001b[0mmin_height\u001b[0m\u001b[0;34m]\u001b[0m\u001b[0;34m\u001b[0m\u001b[0;34m\u001b[0m\u001b[0m\n\u001b[1;32m     90\u001b[0m \u001b[0;34m\u001b[0m\u001b[0m\n",
      "\u001b[0;32m~/miniconda3/envs/DeepForest_JointPrediction/lib/python3.7/site-packages/pandas/core/reshape/concat.py\u001b[0m in \u001b[0;36mconcat\u001b[0;34m(objs, axis, join, ignore_index, keys, levels, names, verify_integrity, sort, copy)\u001b[0m\n\u001b[1;32m    279\u001b[0m         \u001b[0mverify_integrity\u001b[0m\u001b[0;34m=\u001b[0m\u001b[0mverify_integrity\u001b[0m\u001b[0;34m,\u001b[0m\u001b[0;34m\u001b[0m\u001b[0;34m\u001b[0m\u001b[0m\n\u001b[1;32m    280\u001b[0m         \u001b[0mcopy\u001b[0m\u001b[0;34m=\u001b[0m\u001b[0mcopy\u001b[0m\u001b[0;34m,\u001b[0m\u001b[0;34m\u001b[0m\u001b[0;34m\u001b[0m\u001b[0m\n\u001b[0;32m--> 281\u001b[0;31m         \u001b[0msort\u001b[0m\u001b[0;34m=\u001b[0m\u001b[0msort\u001b[0m\u001b[0;34m,\u001b[0m\u001b[0;34m\u001b[0m\u001b[0;34m\u001b[0m\u001b[0m\n\u001b[0m\u001b[1;32m    282\u001b[0m     )\n\u001b[1;32m    283\u001b[0m \u001b[0;34m\u001b[0m\u001b[0m\n",
      "\u001b[0;32m~/miniconda3/envs/DeepForest_JointPrediction/lib/python3.7/site-packages/pandas/core/reshape/concat.py\u001b[0m in \u001b[0;36m__init__\u001b[0;34m(self, objs, axis, join, keys, levels, names, ignore_index, verify_integrity, copy, sort)\u001b[0m\n\u001b[1;32m    327\u001b[0m \u001b[0;34m\u001b[0m\u001b[0m\n\u001b[1;32m    328\u001b[0m         \u001b[0;32mif\u001b[0m \u001b[0mlen\u001b[0m\u001b[0;34m(\u001b[0m\u001b[0mobjs\u001b[0m\u001b[0;34m)\u001b[0m \u001b[0;34m==\u001b[0m \u001b[0;36m0\u001b[0m\u001b[0;34m:\u001b[0m\u001b[0;34m\u001b[0m\u001b[0;34m\u001b[0m\u001b[0m\n\u001b[0;32m--> 329\u001b[0;31m             \u001b[0;32mraise\u001b[0m \u001b[0mValueError\u001b[0m\u001b[0;34m(\u001b[0m\u001b[0;34m\"No objects to concatenate\"\u001b[0m\u001b[0;34m)\u001b[0m\u001b[0;34m\u001b[0m\u001b[0;34m\u001b[0m\u001b[0m\n\u001b[0m\u001b[1;32m    330\u001b[0m \u001b[0;34m\u001b[0m\u001b[0m\n\u001b[1;32m    331\u001b[0m         \u001b[0;32mif\u001b[0m \u001b[0mkeys\u001b[0m \u001b[0;32mis\u001b[0m \u001b[0;32mNone\u001b[0m\u001b[0;34m:\u001b[0m\u001b[0;34m\u001b[0m\u001b[0;34m\u001b[0m\u001b[0m\n",
      "\u001b[0;31mValueError\u001b[0m: No objects to concatenate"
     ]
    }
   ],
   "source": [
    "boxes = evaluate.run(image_csv=csv_path,chm_dir=\"../ext_data/raw/CHM/\")"
   ]
  },
  {
   "cell_type": "code",
   "execution_count": null,
   "metadata": {},
   "outputs": [],
   "source": []
  }
 ],
 "metadata": {
  "kernelspec": {
   "display_name": "Python 3",
   "language": "python",
   "name": "python3"
  },
  "language_info": {
   "codemirror_mode": {
    "name": "ipython",
    "version": 3
   },
   "file_extension": ".py",
   "mimetype": "text/x-python",
   "name": "python",
   "nbconvert_exporter": "python",
   "pygments_lexer": "ipython3",
   "version": "3.7.6"
  }
 },
 "nbformat": 4,
 "nbformat_minor": 4
}
